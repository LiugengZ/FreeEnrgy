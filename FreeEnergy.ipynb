{
 "cells": [
  {
   "cell_type": "code",
   "execution_count": 1,
   "id": "1fe7c5b9-237e-4d0c-b7d0-99fc95f68a32",
   "metadata": {},
   "outputs": [],
   "source": [
    "import torch\n",
    "import torch.nn as nn\n",
    "import torch.optim as optim\n",
    "import torch.nn.functional as F\n",
    "from torchvision import datasets, transforms"
   ]
  },
  {
   "cell_type": "code",
   "execution_count": 2,
   "id": "51f0dfe0-e23a-45a4-8162-0579a3a5c04f",
   "metadata": {},
   "outputs": [],
   "source": [
    "# 定义分类器网络 q(y|x)\n",
    "class Classifier(nn.Module):\n",
    "    def __init__(self, input_dim, num_classes):\n",
    "        super(Classifier, self).__init__()\n",
    "        self.fc = nn.Linear(input_dim, num_classes)\n",
    "    \n",
    "    def forward(self, x):\n",
    "        logits = self.fc(x)\n",
    "        q_y = F.softmax(logits, dim=1)\n",
    "        return q_y, logits\n",
    "\n"
   ]
  },
  {
   "cell_type": "code",
   "execution_count": 3,
   "id": "83000364-76ec-498c-9bbd-ddcf6067b1ec",
   "metadata": {},
   "outputs": [],
   "source": [
    "# 计算 ELBO\n",
    "def compute_elbo(x, q_y, logits, mu_y, epsilon=1e-8):\n",
    "    # x: (batch_size, num_pixels)\n",
    "    # q_y: (batch_size, num_classes)\n",
    "    # logits: (batch_size, num_classes)\n",
    "    # mu_y: (num_classes, num_pixels)\n",
    "    \n",
    "    num_classes = mu_y.size(0)\n",
    "    batch_size = x.size(0)\n",
    "    \n",
    "    # log p(y) = log(1/num_classes)\n",
    "    log_p_y = torch.log(torch.tensor(1.0 / num_classes, dtype=torch.float32, device=x.device))\n",
    "    \n",
    "    # log p(x|y) = sum(x * log mu_y + (1 - x) * log (1 - mu_y))\n",
    "    log_mu = torch.log(mu_y + epsilon)\n",
    "    log_one_minus_mu = torch.log(1 - mu_y + epsilon)\n",
    "    log_p_x_given_y = (x @ log_mu.t()) + ((1 - x) @ log_one_minus_mu.t())\n",
    "    \n",
    "    # E_q[log p(x, y)] = sum_q log p(x, y)\n",
    "    e_q_log_p_x_y = torch.sum(q_y * log_p_x_given_y, dim=1)\n",
    "    e_q_log_p_y = torch.sum(q_y * log_p_y, dim=1)\n",
    "    e_q_log_p_x_y += e_q_log_p_y\n",
    "    \n",
    "    # E_q[log q(y|x)] = sum_q log q(y|x)\n",
    "    log_q_y = nn.functional.log_softmax(logits, dim=1)\n",
    "    e_q_log_q_y = torch.sum(q_y * log_q_y, dim=1)\n",
    "    \n",
    "    # ELBO = E_q_log_p_x_y - E_q_log_q_y\n",
    "    elbo = e_q_log_p_x_y - e_q_log_q_y\n",
    "    return elbo\n"
   ]
  },
  {
   "cell_type": "code",
   "execution_count": 4,
   "id": "f88e7fc7-bdf0-4b58-af38-cd7118c3a267",
   "metadata": {},
   "outputs": [],
   "source": [
    "# 训练循环\n",
    "def train(model, mu_y, optimizer, train_loader, epochs=10):\n",
    "    model.train()\n",
    "    for epoch in range(epochs):\n",
    "        for batch_idx, (images, labels) in enumerate(train_loader):\n",
    "            images = images.view(images.size(0), -1)\n",
    "            q_y, logits = model(images)\n",
    "            elbo = compute_elbo(images, q_y, logits, mu_y)\n",
    "            loss = -elbo.mean()\n",
    "            optimizer.zero_grad()\n",
    "            loss.backward()\n",
    "            optimizer.step()\n",
    "        \n",
    "        print(f'Epoch {epoch+1}, Loss: {loss.item()}')\n",
    "        test_accuracy(model, test_loader)\n"
   ]
  },
  {
   "cell_type": "code",
   "execution_count": 5,
   "id": "bae0c7d4-02c7-4999-a343-2bb53768290b",
   "metadata": {},
   "outputs": [],
   "source": [
    "# 测试准确率\n",
    "def test_accuracy(model, test_loader):\n",
    "    model.eval()\n",
    "    correct = 0\n",
    "    total = 0\n",
    "    with torch.no_grad():\n",
    "        for images, labels in test_loader:\n",
    "            images = images.view(images.size(0), -1)\n",
    "            q_y, logits = model(images)\n",
    "            _, predicted = torch.max(logits.data, 1)\n",
    "            total += labels.size(0)\n",
    "            correct += (predicted == labels).sum().item()\n",
    "    accuracy = 100 * correct / total\n",
    "    print(f'Test Accuracy: {accuracy:.2f}%')\n",
    "    return accuracy"
   ]
  },
  {
   "cell_type": "code",
   "execution_count": 8,
   "id": "1260e5c5-3db0-4760-b67c-425c0c2b8705",
   "metadata": {},
   "outputs": [],
   "source": [
    "# 获取mu_y\n",
    "def compute_class_means(dataset, num_classes, input_dim):\n",
    "    class_means = torch.zeros(num_classes, input_dim, dtype=torch.float32)\n",
    "    class_counts = torch.zeros(num_classes, dtype=torch.int32)\n",
    "    for image, label in dataset:\n",
    "        # 确保图像展平为 [784] 的形状\n",
    "        class_means[label] += image.view(-1)\n",
    "        class_counts[label] += 1\n",
    "    for y in range(num_classes):\n",
    "        if class_counts[y] > 0:\n",
    "            class_means[y] /= class_counts[y]\n",
    "    return class_means"
   ]
  },
  {
   "cell_type": "code",
   "execution_count": 9,
   "id": "1e9ffed2-3ee5-4a80-b694-a0355920bc2a",
   "metadata": {},
   "outputs": [
    {
     "name": "stdout",
     "output_type": "stream",
     "text": [
      "Epoch 1, Loss: nan\n",
      "Test Accuracy: 9.80%\n",
      "Epoch 2, Loss: nan\n",
      "Test Accuracy: 9.80%\n",
      "Epoch 3, Loss: nan\n",
      "Test Accuracy: 9.80%\n",
      "Epoch 4, Loss: nan\n",
      "Test Accuracy: 9.80%\n",
      "Epoch 5, Loss: nan\n",
      "Test Accuracy: 9.80%\n",
      "Epoch 6, Loss: nan\n",
      "Test Accuracy: 9.80%\n",
      "Epoch 7, Loss: nan\n",
      "Test Accuracy: 9.80%\n",
      "Epoch 8, Loss: nan\n",
      "Test Accuracy: 9.80%\n",
      "Epoch 9, Loss: nan\n",
      "Test Accuracy: 9.80%\n",
      "Epoch 10, Loss: nan\n",
      "Test Accuracy: 9.80%\n"
     ]
    }
   ],
   "source": [
    "# 主程序\n",
    "if __name__ == '__main__':\n",
    "    input_dim = 784\n",
    "    num_classes = 10\n",
    "    batch_size = 64\n",
    "\n",
    "    transform = transforms.Compose([\n",
    "        transforms.ToTensor(),\n",
    "        transforms.Normalize((0.5,), (0.5,))\n",
    "    ])\n",
    "\n",
    "    train_dataset = datasets.MNIST(root='D:\\\\jupyter\\\\softHebb\\\\data', train=True, download=False, transform=transform)\n",
    "    test_dataset = datasets.MNIST(root='D:\\\\jupyter\\\\softHebb\\\\data', train=False, transform=transform)\n",
    "\n",
    "    train_loader = torch.utils.data.DataLoader(train_dataset, batch_size=batch_size, shuffle=True)\n",
    "    test_loader = torch.utils.data.DataLoader(test_dataset, batch_size=batch_size, shuffle=False)\n",
    "\n",
    "    mu_y = compute_class_means(train_dataset, num_classes, input_dim)\n",
    "\n",
    "    model = Classifier(input_dim, num_classes)\n",
    "    optimizer = optim.Adam(model.parameters(), lr=1e-3)\n",
    "\n",
    "    train(model, mu_y, optimizer, train_loader, epochs=10)"
   ]
  },
  {
   "cell_type": "code",
   "execution_count": null,
   "id": "c3561aca-1293-4706-8bbf-1c616ea255db",
   "metadata": {},
   "outputs": [],
   "source": []
  }
 ],
 "metadata": {
  "kernelspec": {
   "display_name": "Python 3 (ipykernel)",
   "language": "python",
   "name": "python3"
  },
  "language_info": {
   "codemirror_mode": {
    "name": "ipython",
    "version": 3
   },
   "file_extension": ".py",
   "mimetype": "text/x-python",
   "name": "python",
   "nbconvert_exporter": "python",
   "pygments_lexer": "ipython3",
   "version": "3.8.19"
  }
 },
 "nbformat": 4,
 "nbformat_minor": 5
}
